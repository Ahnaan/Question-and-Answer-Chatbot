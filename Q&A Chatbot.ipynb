{
 "cells": [
  {
   "cell_type": "markdown",
   "id": "4ab51789",
   "metadata": {},
   "source": [
    "## Loading the Data\n",
    "\n",
    "We will be working with the Babi Data Set from Facebook Research.\n",
    "\n",
    "Full Details: https://research.fb.com/downloads/babi/"
   ]
  },
  {
   "cell_type": "code",
   "execution_count": 1,
   "id": "b13afd7a",
   "metadata": {},
   "outputs": [],
   "source": [
    "import pickle\n",
    "import numpy as np"
   ]
  },
  {
   "cell_type": "code",
   "execution_count": 2,
   "id": "b8804c30",
   "metadata": {},
   "outputs": [],
   "source": [
    "with open(\"train_qa.txt\", \"rb\") as fp:   # Unpickling\n",
    "    train_data =  pickle.load(fp)"
   ]
  },
  {
   "cell_type": "code",
   "execution_count": 3,
   "id": "9ffd3b60",
   "metadata": {},
   "outputs": [],
   "source": [
    "with open(\"test_qa.txt\", \"rb\") as fp:   # Unpickling\n",
    "    test_data =  pickle.load(fp)"
   ]
  },
  {
   "cell_type": "markdown",
   "id": "93b3af24",
   "metadata": {},
   "source": [
    "## Exploring the Format of the Data"
   ]
  },
  {
   "cell_type": "code",
   "execution_count": 4,
   "id": "2ac0b058",
   "metadata": {},
   "outputs": [
    {
     "data": {
      "text/plain": [
       "list"
      ]
     },
     "execution_count": 4,
     "metadata": {},
     "output_type": "execute_result"
    }
   ],
   "source": [
    "type(test_data)"
   ]
  },
  {
   "cell_type": "code",
   "execution_count": 5,
   "id": "54e32acc",
   "metadata": {},
   "outputs": [
    {
     "data": {
      "text/plain": [
       "list"
      ]
     },
     "execution_count": 5,
     "metadata": {},
     "output_type": "execute_result"
    }
   ],
   "source": [
    "type(train_data)"
   ]
  },
  {
   "cell_type": "code",
   "execution_count": 6,
   "id": "743c9e8a",
   "metadata": {},
   "outputs": [
    {
     "data": {
      "text/plain": [
       "1000"
      ]
     },
     "execution_count": 6,
     "metadata": {},
     "output_type": "execute_result"
    }
   ],
   "source": [
    "len(test_data)"
   ]
  },
  {
   "cell_type": "code",
   "execution_count": 7,
   "id": "b1142566",
   "metadata": {},
   "outputs": [
    {
     "data": {
      "text/plain": [
       "10000"
      ]
     },
     "execution_count": 7,
     "metadata": {},
     "output_type": "execute_result"
    }
   ],
   "source": [
    "len(train_data)"
   ]
  },
  {
   "cell_type": "code",
   "execution_count": 8,
   "id": "07c297dc",
   "metadata": {},
   "outputs": [
    {
     "data": {
      "text/plain": [
       "(['Mary',\n",
       "  'moved',\n",
       "  'to',\n",
       "  'the',\n",
       "  'bathroom',\n",
       "  '.',\n",
       "  'Sandra',\n",
       "  'journeyed',\n",
       "  'to',\n",
       "  'the',\n",
       "  'bedroom',\n",
       "  '.'],\n",
       " ['Is', 'Sandra', 'in', 'the', 'hallway', '?'],\n",
       " 'no')"
      ]
     },
     "execution_count": 8,
     "metadata": {},
     "output_type": "execute_result"
    }
   ],
   "source": [
    "train_data[0]"
   ]
  },
  {
   "cell_type": "code",
   "execution_count": 9,
   "id": "ff4b4ee2",
   "metadata": {},
   "outputs": [
    {
     "data": {
      "text/plain": [
       "'Mary moved to the bathroom . Sandra journeyed to the bedroom .'"
      ]
     },
     "execution_count": 9,
     "metadata": {},
     "output_type": "execute_result"
    }
   ],
   "source": [
    "' '.join(train_data[0][0])"
   ]
  },
  {
   "cell_type": "code",
   "execution_count": 10,
   "id": "2a6b8cda",
   "metadata": {},
   "outputs": [
    {
     "data": {
      "text/plain": [
       "'Is Sandra in the hallway ?'"
      ]
     },
     "execution_count": 10,
     "metadata": {},
     "output_type": "execute_result"
    }
   ],
   "source": [
    "' '.join(train_data[0][1])"
   ]
  },
  {
   "cell_type": "code",
   "execution_count": 11,
   "id": "18268b29",
   "metadata": {},
   "outputs": [
    {
     "data": {
      "text/plain": [
       "'no'"
      ]
     },
     "execution_count": 11,
     "metadata": {},
     "output_type": "execute_result"
    }
   ],
   "source": [
    "train_data[0][2]"
   ]
  },
  {
   "cell_type": "markdown",
   "id": "2bede066",
   "metadata": {},
   "source": [
    "## Setting up Vocabulary of All Words"
   ]
  },
  {
   "cell_type": "code",
   "execution_count": 12,
   "id": "1d7fa708",
   "metadata": {},
   "outputs": [],
   "source": [
    "# Create a set that holds the vocab words\n",
    "vocab = set()"
   ]
  },
  {
   "cell_type": "code",
   "execution_count": 13,
   "id": "f972120d",
   "metadata": {},
   "outputs": [],
   "source": [
    "all_data = test_data + train_data"
   ]
  },
  {
   "cell_type": "code",
   "execution_count": 14,
   "id": "0391b75b",
   "metadata": {},
   "outputs": [],
   "source": [
    "for story, question , answer in all_data:\n",
    "    vocab = vocab.union(set(story))\n",
    "    vocab = vocab.union(set(question))"
   ]
  },
  {
   "cell_type": "code",
   "execution_count": 15,
   "id": "9f977da9",
   "metadata": {},
   "outputs": [],
   "source": [
    "vocab.add('no')\n",
    "vocab.add('yes')"
   ]
  },
  {
   "cell_type": "code",
   "execution_count": 16,
   "id": "92e45bf2",
   "metadata": {},
   "outputs": [
    {
     "data": {
      "text/plain": [
       "{'.',\n",
       " '?',\n",
       " 'Daniel',\n",
       " 'Is',\n",
       " 'John',\n",
       " 'Mary',\n",
       " 'Sandra',\n",
       " 'apple',\n",
       " 'back',\n",
       " 'bathroom',\n",
       " 'bedroom',\n",
       " 'discarded',\n",
       " 'down',\n",
       " 'dropped',\n",
       " 'football',\n",
       " 'garden',\n",
       " 'got',\n",
       " 'grabbed',\n",
       " 'hallway',\n",
       " 'in',\n",
       " 'journeyed',\n",
       " 'kitchen',\n",
       " 'left',\n",
       " 'milk',\n",
       " 'moved',\n",
       " 'no',\n",
       " 'office',\n",
       " 'picked',\n",
       " 'put',\n",
       " 'the',\n",
       " 'there',\n",
       " 'to',\n",
       " 'took',\n",
       " 'travelled',\n",
       " 'up',\n",
       " 'went',\n",
       " 'yes'}"
      ]
     },
     "execution_count": 16,
     "metadata": {},
     "output_type": "execute_result"
    }
   ],
   "source": [
    "vocab"
   ]
  },
  {
   "cell_type": "code",
   "execution_count": 17,
   "id": "bb8362d1",
   "metadata": {},
   "outputs": [],
   "source": [
    "vocab_len = len(vocab) + 1"
   ]
  },
  {
   "cell_type": "code",
   "execution_count": 18,
   "id": "ad2fcd45",
   "metadata": {},
   "outputs": [],
   "source": [
    "max_story_len = max([len(data[0]) for data in all_data])"
   ]
  },
  {
   "cell_type": "code",
   "execution_count": 19,
   "id": "18443023",
   "metadata": {},
   "outputs": [
    {
     "data": {
      "text/plain": [
       "156"
      ]
     },
     "execution_count": 19,
     "metadata": {},
     "output_type": "execute_result"
    }
   ],
   "source": [
    "max_story_len"
   ]
  },
  {
   "cell_type": "code",
   "execution_count": 20,
   "id": "2aa7047f",
   "metadata": {},
   "outputs": [],
   "source": [
    "max_question_len = max([len(data[1]) for data in all_data])"
   ]
  },
  {
   "cell_type": "code",
   "execution_count": 21,
   "id": "37bf8a2c",
   "metadata": {},
   "outputs": [
    {
     "data": {
      "text/plain": [
       "6"
      ]
     },
     "execution_count": 21,
     "metadata": {},
     "output_type": "execute_result"
    }
   ],
   "source": [
    "max_question_len"
   ]
  },
  {
   "cell_type": "markdown",
   "id": "3af787f4",
   "metadata": {},
   "source": [
    "## Vectorizing the Data"
   ]
  },
  {
   "cell_type": "code",
   "execution_count": 22,
   "id": "ffc11a6b",
   "metadata": {},
   "outputs": [
    {
     "data": {
      "text/plain": [
       "{'.',\n",
       " '?',\n",
       " 'Daniel',\n",
       " 'Is',\n",
       " 'John',\n",
       " 'Mary',\n",
       " 'Sandra',\n",
       " 'apple',\n",
       " 'back',\n",
       " 'bathroom',\n",
       " 'bedroom',\n",
       " 'discarded',\n",
       " 'down',\n",
       " 'dropped',\n",
       " 'football',\n",
       " 'garden',\n",
       " 'got',\n",
       " 'grabbed',\n",
       " 'hallway',\n",
       " 'in',\n",
       " 'journeyed',\n",
       " 'kitchen',\n",
       " 'left',\n",
       " 'milk',\n",
       " 'moved',\n",
       " 'no',\n",
       " 'office',\n",
       " 'picked',\n",
       " 'put',\n",
       " 'the',\n",
       " 'there',\n",
       " 'to',\n",
       " 'took',\n",
       " 'travelled',\n",
       " 'up',\n",
       " 'went',\n",
       " 'yes'}"
      ]
     },
     "execution_count": 22,
     "metadata": {},
     "output_type": "execute_result"
    }
   ],
   "source": [
    "vocab"
   ]
  },
  {
   "cell_type": "code",
   "execution_count": 23,
   "id": "d376c04b",
   "metadata": {},
   "outputs": [],
   "source": [
    "# Reserve 0 for pad_sequences\n",
    "vocab_size = len(vocab) + 1"
   ]
  },
  {
   "cell_type": "code",
   "execution_count": 24,
   "id": "3b67fd0d",
   "metadata": {},
   "outputs": [],
   "source": [
    "from keras.preprocessing.sequence import pad_sequences\n",
    "from keras.preprocessing.text import Tokenizer"
   ]
  },
  {
   "cell_type": "code",
   "execution_count": 25,
   "id": "ca47417e",
   "metadata": {},
   "outputs": [],
   "source": [
    "# integer encode sequences of words\n",
    "tokenizer = Tokenizer(filters=[])\n",
    "tokenizer.fit_on_texts(vocab)"
   ]
  },
  {
   "cell_type": "code",
   "execution_count": 26,
   "id": "8e1f0a67",
   "metadata": {},
   "outputs": [
    {
     "data": {
      "text/plain": [
       "{'office': 1,\n",
       " 'went': 2,\n",
       " 'journeyed': 3,\n",
       " 'put': 4,\n",
       " 'travelled': 5,\n",
       " 'up': 6,\n",
       " 'grabbed': 7,\n",
       " 'discarded': 8,\n",
       " 'garden': 9,\n",
       " 'john': 10,\n",
       " 'to': 11,\n",
       " '.': 12,\n",
       " 'hallway': 13,\n",
       " 'football': 14,\n",
       " 'kitchen': 15,\n",
       " 'down': 16,\n",
       " 'in': 17,\n",
       " 'picked': 18,\n",
       " 'is': 19,\n",
       " 'back': 20,\n",
       " 'dropped': 21,\n",
       " 'yes': 22,\n",
       " 'took': 23,\n",
       " 'apple': 24,\n",
       " 'got': 25,\n",
       " 'daniel': 26,\n",
       " 'the': 27,\n",
       " 'left': 28,\n",
       " 'moved': 29,\n",
       " 'no': 30,\n",
       " 'mary': 31,\n",
       " 'milk': 32,\n",
       " 'there': 33,\n",
       " '?': 34,\n",
       " 'bathroom': 35,\n",
       " 'sandra': 36,\n",
       " 'bedroom': 37}"
      ]
     },
     "execution_count": 26,
     "metadata": {},
     "output_type": "execute_result"
    }
   ],
   "source": [
    "tokenizer.word_index"
   ]
  },
  {
   "cell_type": "code",
   "execution_count": 27,
   "id": "3d4a1b32",
   "metadata": {},
   "outputs": [],
   "source": [
    "train_story_text = []\n",
    "train_question_text = []\n",
    "train_answers = []\n",
    "\n",
    "for story,question,answer in train_data:\n",
    "    train_story_text.append(story)\n",
    "    train_question_text.append(question)"
   ]
  },
  {
   "cell_type": "code",
   "execution_count": 28,
   "id": "9f15cb3d",
   "metadata": {},
   "outputs": [],
   "source": [
    "train_story_seq = tokenizer.texts_to_sequences(train_story_text)"
   ]
  },
  {
   "cell_type": "code",
   "execution_count": 29,
   "id": "ae5f4a23",
   "metadata": {},
   "outputs": [
    {
     "data": {
      "text/plain": [
       "10000"
      ]
     },
     "execution_count": 29,
     "metadata": {},
     "output_type": "execute_result"
    }
   ],
   "source": [
    "len(train_story_text)"
   ]
  },
  {
   "cell_type": "code",
   "execution_count": 30,
   "id": "b3931643",
   "metadata": {},
   "outputs": [
    {
     "data": {
      "text/plain": [
       "10000"
      ]
     },
     "execution_count": 30,
     "metadata": {},
     "output_type": "execute_result"
    }
   ],
   "source": [
    "len(train_story_seq)"
   ]
  },
  {
   "cell_type": "markdown",
   "id": "853e6cdc",
   "metadata": {},
   "source": [
    "### Functionalize Vectorization"
   ]
  },
  {
   "cell_type": "code",
   "execution_count": 31,
   "id": "fbfe6b1b",
   "metadata": {},
   "outputs": [],
   "source": [
    "def vectorize_stories(data, word_index=tokenizer.word_index, max_story_len=max_story_len,max_question_len=max_question_len):\n",
    "    '''\n",
    "    INPUT: \n",
    "    \n",
    "    data: consisting of Stories,Queries,and Answers\n",
    "    word_index: word index dictionary from tokenizer\n",
    "    max_story_len: the length of the longest story (used for pad_sequences function)\n",
    "    max_question_len: length of the longest question (used for pad_sequences function)\n",
    "\n",
    "\n",
    "    OUTPUT:\n",
    "    \n",
    "    Vectorizes the stories,questions, and answers into padded sequences. We first loop for every story, query , and\n",
    "    answer in the data. Then we convert the raw words to an word index value. Then we append each set to their appropriate\n",
    "    output list. Then once we have converted the words to numbers, we pad the sequences so they are all of equal length.\n",
    "    \n",
    "    Returns this in the form of a tuple (X,Xq,Y) (padded based on max lengths)\n",
    "    '''\n",
    "    \n",
    "    \n",
    "    # X = STORIES\n",
    "    X = []\n",
    "    # Xq = QUERY/QUESTION\n",
    "    Xq = []\n",
    "    # Y = CORRECT ANSWER\n",
    "    Y = []\n",
    "    \n",
    "    \n",
    "    for story, query, answer in data:\n",
    "        \n",
    "        # Grab the word index for every word in story\n",
    "        x = [word_index[word.lower()] for word in story]\n",
    "        # Grab the word index for every word in query\n",
    "        xq = [word_index[word.lower()] for word in query]\n",
    "        \n",
    "        # Grab the Answers (either Yes/No so we don't need to use list comprehension here)\n",
    "        # Index 0 is reserved so we're going to use + 1\n",
    "        y = np.zeros(len(word_index) + 1)\n",
    "        \n",
    "        # Now that y is all zeros and we know its just Yes/No , we can use numpy logic to create this assignment\n",
    "        #\n",
    "        y[word_index[answer]] = 1\n",
    "        \n",
    "        # Append each set of story,query, and answer to their respective holding lists\n",
    "        X.append(x)\n",
    "        Xq.append(xq)\n",
    "        Y.append(y)\n",
    "        \n",
    "    # Finally, pad the sequences based on their max length so the RNN can be trained on uniformly long sequences.\n",
    "        \n",
    "    # RETURN TUPLE FOR UNPACKING\n",
    "    return (pad_sequences(X, maxlen=max_story_len),pad_sequences(Xq, maxlen=max_question_len), np.array(Y))"
   ]
  },
  {
   "cell_type": "code",
   "execution_count": 32,
   "id": "199dd0f6",
   "metadata": {},
   "outputs": [],
   "source": [
    "inputs_train, queries_train, answers_train = vectorize_stories(train_data)"
   ]
  },
  {
   "cell_type": "code",
   "execution_count": 33,
   "id": "0537bff5",
   "metadata": {},
   "outputs": [],
   "source": [
    "inputs_test, queries_test, answers_test = vectorize_stories(test_data)"
   ]
  },
  {
   "cell_type": "code",
   "execution_count": 34,
   "id": "5053f6ce",
   "metadata": {},
   "outputs": [
    {
     "data": {
      "text/plain": [
       "array([[ 0,  0,  0, ..., 27, 37, 12],\n",
       "       [ 0,  0,  0, ..., 27,  9, 12],\n",
       "       [ 0,  0,  0, ..., 27,  9, 12],\n",
       "       ...,\n",
       "       [ 0,  0,  0, ..., 27, 24, 12],\n",
       "       [ 0,  0,  0, ..., 27,  9, 12],\n",
       "       [ 0,  0,  0, ..., 24, 33, 12]])"
      ]
     },
     "execution_count": 34,
     "metadata": {},
     "output_type": "execute_result"
    }
   ],
   "source": [
    "inputs_test"
   ]
  },
  {
   "cell_type": "code",
   "execution_count": 35,
   "id": "bbf0ca7b",
   "metadata": {},
   "outputs": [
    {
     "data": {
      "text/plain": [
       "array([[19, 10, 17, 27, 15, 34],\n",
       "       [19, 10, 17, 27, 15, 34],\n",
       "       [19, 10, 17, 27,  9, 34],\n",
       "       ...,\n",
       "       [19, 31, 17, 27, 37, 34],\n",
       "       [19, 36, 17, 27,  9, 34],\n",
       "       [19, 31, 17, 27,  9, 34]])"
      ]
     },
     "execution_count": 35,
     "metadata": {},
     "output_type": "execute_result"
    }
   ],
   "source": [
    "queries_test"
   ]
  },
  {
   "cell_type": "code",
   "execution_count": 36,
   "id": "f077078d",
   "metadata": {},
   "outputs": [
    {
     "data": {
      "text/plain": [
       "array([[0., 0., 0., ..., 0., 0., 0.],\n",
       "       [0., 0., 0., ..., 0., 0., 0.],\n",
       "       [0., 0., 0., ..., 0., 0., 0.],\n",
       "       ...,\n",
       "       [0., 0., 0., ..., 0., 0., 0.],\n",
       "       [0., 0., 0., ..., 0., 0., 0.],\n",
       "       [0., 0., 0., ..., 0., 0., 0.]])"
      ]
     },
     "execution_count": 36,
     "metadata": {},
     "output_type": "execute_result"
    }
   ],
   "source": [
    "answers_test"
   ]
  },
  {
   "cell_type": "code",
   "execution_count": 37,
   "id": "d52ae16a",
   "metadata": {},
   "outputs": [
    {
     "data": {
      "text/plain": [
       "array([  0.,   0.,   0.,   0.,   0.,   0.,   0.,   0.,   0.,   0.,   0.,\n",
       "         0.,   0.,   0.,   0.,   0.,   0.,   0.,   0.,   0.,   0.,   0.,\n",
       "       497.,   0.,   0.,   0.,   0.,   0.,   0.,   0., 503.,   0.,   0.,\n",
       "         0.,   0.,   0.,   0.,   0.])"
      ]
     },
     "execution_count": 37,
     "metadata": {},
     "output_type": "execute_result"
    }
   ],
   "source": [
    "sum(answers_test)"
   ]
  },
  {
   "cell_type": "code",
   "execution_count": 38,
   "id": "39502f55",
   "metadata": {},
   "outputs": [
    {
     "data": {
      "text/plain": [
       "22"
      ]
     },
     "execution_count": 38,
     "metadata": {},
     "output_type": "execute_result"
    }
   ],
   "source": [
    "tokenizer.word_index['yes']"
   ]
  },
  {
   "cell_type": "code",
   "execution_count": 39,
   "id": "58651f1f",
   "metadata": {},
   "outputs": [
    {
     "data": {
      "text/plain": [
       "30"
      ]
     },
     "execution_count": 39,
     "metadata": {},
     "output_type": "execute_result"
    }
   ],
   "source": [
    "tokenizer.word_index['no']"
   ]
  },
  {
   "cell_type": "markdown",
   "id": "3744b4f3",
   "metadata": {},
   "source": [
    "## Creating the Model"
   ]
  },
  {
   "cell_type": "code",
   "execution_count": 40,
   "id": "c6a39b0c",
   "metadata": {},
   "outputs": [],
   "source": [
    "from keras.models import Sequential, Model\n",
    "from keras.layers.embeddings import Embedding\n",
    "from keras.layers import Input, Activation, Dense, Permute, Dropout\n",
    "from keras.layers import add, dot, concatenate\n",
    "from keras.layers import LSTM"
   ]
  },
  {
   "cell_type": "markdown",
   "id": "6aabeb45",
   "metadata": {},
   "source": [
    "### Placeholders for Inputs\n",
    "\n",
    "We technically have two inputs, stories and questions. So we need to use placeholders. "
   ]
  },
  {
   "cell_type": "code",
   "execution_count": 41,
   "id": "ff86b494",
   "metadata": {},
   "outputs": [],
   "source": [
    "input_sequence = Input((max_story_len,))\n",
    "question = Input((max_question_len,))"
   ]
  },
  {
   "cell_type": "markdown",
   "id": "6dc13ab9",
   "metadata": {},
   "source": [
    "### Building the Networks\n"
   ]
  },
  {
   "cell_type": "markdown",
   "id": "4c3f86bc",
   "metadata": {},
   "source": [
    "## Encoders\n",
    "\n",
    "### Input Encoder m"
   ]
  },
  {
   "cell_type": "code",
   "execution_count": 42,
   "id": "82bc5ee5",
   "metadata": {},
   "outputs": [],
   "source": [
    "# Input gets embedded to a sequence of vectors\n",
    "input_encoder_m = Sequential()\n",
    "input_encoder_m.add(Embedding(input_dim=vocab_size,output_dim=64))\n",
    "input_encoder_m.add(Dropout(0.3))\n",
    "\n",
    "# This encoder will output:\n",
    "# (samples, story_maxlen, embedding_dim)"
   ]
  },
  {
   "cell_type": "markdown",
   "id": "f58d2a17",
   "metadata": {},
   "source": [
    "### Input Encoder c"
   ]
  },
  {
   "cell_type": "code",
   "execution_count": 43,
   "id": "84337107",
   "metadata": {},
   "outputs": [],
   "source": [
    "# embed the input into a sequence of vectors of size query_maxlen\n",
    "input_encoder_c = Sequential()\n",
    "input_encoder_c.add(Embedding(input_dim=vocab_size,output_dim=max_question_len))\n",
    "input_encoder_c.add(Dropout(0.3))\n",
    "# output: (samples, story_maxlen, query_maxlen)"
   ]
  },
  {
   "cell_type": "markdown",
   "id": "b5187602",
   "metadata": {},
   "source": [
    "### Question Encoder"
   ]
  },
  {
   "cell_type": "code",
   "execution_count": 44,
   "id": "e6549772",
   "metadata": {},
   "outputs": [],
   "source": [
    "# embed the question into a sequence of vectors\n",
    "question_encoder = Sequential()\n",
    "question_encoder.add(Embedding(input_dim=vocab_size,\n",
    "                               output_dim=64,\n",
    "                               input_length=max_question_len))\n",
    "question_encoder.add(Dropout(0.3))\n",
    "# output: (samples, query_maxlen, embedding_dim)"
   ]
  },
  {
   "cell_type": "markdown",
   "id": "0960e106",
   "metadata": {},
   "source": [
    "### Encode the Sequences"
   ]
  },
  {
   "cell_type": "code",
   "execution_count": 45,
   "id": "bf585bba",
   "metadata": {},
   "outputs": [],
   "source": [
    "# encode input sequence and questions (which are indices)\n",
    "# to sequences of dense vectors\n",
    "input_encoded_m = input_encoder_m(input_sequence)\n",
    "input_encoded_c = input_encoder_c(input_sequence)\n",
    "question_encoded = question_encoder(question)"
   ]
  },
  {
   "cell_type": "markdown",
   "id": "41aab5de",
   "metadata": {},
   "source": [
    "##### Use dot product to compute the match between first input vector seq and the query"
   ]
  },
  {
   "cell_type": "code",
   "execution_count": 46,
   "id": "c0b83566",
   "metadata": {},
   "outputs": [],
   "source": [
    "# shape: `(samples, story_maxlen, query_maxlen)`\n",
    "match = dot([input_encoded_m, question_encoded], axes=(2, 2))\n",
    "match = Activation('softmax')(match)"
   ]
  },
  {
   "cell_type": "markdown",
   "id": "94bcbd23",
   "metadata": {},
   "source": [
    "#### Add this match matrix with the second input vector sequence"
   ]
  },
  {
   "cell_type": "code",
   "execution_count": 47,
   "id": "d2ced2db",
   "metadata": {},
   "outputs": [],
   "source": [
    "# add the match matrix with the second input vector sequence\n",
    "response = add([match, input_encoded_c])  # (samples, story_maxlen, query_maxlen)\n",
    "response = Permute((2, 1))(response)  # (samples, query_maxlen, story_maxlen)"
   ]
  },
  {
   "cell_type": "markdown",
   "id": "eab1b262",
   "metadata": {},
   "source": [
    "#### Concatenate"
   ]
  },
  {
   "cell_type": "code",
   "execution_count": 48,
   "id": "f9ca9db8",
   "metadata": {},
   "outputs": [],
   "source": [
    "# concatenate the match matrix with the question vector sequence\n",
    "answer = concatenate([response, question_encoded])"
   ]
  },
  {
   "cell_type": "code",
   "execution_count": 49,
   "id": "a6d3cdec",
   "metadata": {},
   "outputs": [
    {
     "data": {
      "text/plain": [
       "<KerasTensor: shape=(None, 6, 220) dtype=float32 (created by layer 'concatenate')>"
      ]
     },
     "execution_count": 49,
     "metadata": {},
     "output_type": "execute_result"
    }
   ],
   "source": [
    "answer"
   ]
  },
  {
   "cell_type": "code",
   "execution_count": 50,
   "id": "cf35cf41",
   "metadata": {},
   "outputs": [],
   "source": [
    "# Reduce with RNN (LSTM)\n",
    "answer = LSTM(32)(answer)  # (samples, 32)"
   ]
  },
  {
   "cell_type": "code",
   "execution_count": 51,
   "id": "8e35dbb0",
   "metadata": {},
   "outputs": [],
   "source": [
    "# Regularization with Dropout\n",
    "answer = Dropout(0.5)(answer)\n",
    "answer = Dense(vocab_size)(answer)  # (samples, vocab_size)"
   ]
  },
  {
   "cell_type": "code",
   "execution_count": 52,
   "id": "4268c2e8",
   "metadata": {},
   "outputs": [],
   "source": [
    "# we output a probability distribution over the vocabulary\n",
    "answer = Activation('softmax')(answer)\n",
    "\n",
    "# build the final model\n",
    "model = Model([input_sequence, question], answer)\n",
    "model.compile(optimizer='rmsprop', loss='categorical_crossentropy',\n",
    "              metrics=['accuracy'])"
   ]
  },
  {
   "cell_type": "code",
   "execution_count": 53,
   "id": "9111720e",
   "metadata": {},
   "outputs": [
    {
     "name": "stdout",
     "output_type": "stream",
     "text": [
      "Model: \"model\"\n",
      "__________________________________________________________________________________________________\n",
      "Layer (type)                    Output Shape         Param #     Connected to                     \n",
      "==================================================================================================\n",
      "input_1 (InputLayer)            [(None, 156)]        0                                            \n",
      "__________________________________________________________________________________________________\n",
      "input_2 (InputLayer)            [(None, 6)]          0                                            \n",
      "__________________________________________________________________________________________________\n",
      "sequential (Sequential)         (None, None, 64)     2432        input_1[0][0]                    \n",
      "__________________________________________________________________________________________________\n",
      "sequential_2 (Sequential)       (None, 6, 64)        2432        input_2[0][0]                    \n",
      "__________________________________________________________________________________________________\n",
      "dot (Dot)                       (None, 156, 6)       0           sequential[0][0]                 \n",
      "                                                                 sequential_2[0][0]               \n",
      "__________________________________________________________________________________________________\n",
      "activation (Activation)         (None, 156, 6)       0           dot[0][0]                        \n",
      "__________________________________________________________________________________________________\n",
      "sequential_1 (Sequential)       (None, None, 6)      228         input_1[0][0]                    \n",
      "__________________________________________________________________________________________________\n",
      "add (Add)                       (None, 156, 6)       0           activation[0][0]                 \n",
      "                                                                 sequential_1[0][0]               \n",
      "__________________________________________________________________________________________________\n",
      "permute (Permute)               (None, 6, 156)       0           add[0][0]                        \n",
      "__________________________________________________________________________________________________\n",
      "concatenate (Concatenate)       (None, 6, 220)       0           permute[0][0]                    \n",
      "                                                                 sequential_2[0][0]               \n",
      "__________________________________________________________________________________________________\n",
      "lstm (LSTM)                     (None, 32)           32384       concatenate[0][0]                \n",
      "__________________________________________________________________________________________________\n",
      "dropout_3 (Dropout)             (None, 32)           0           lstm[0][0]                       \n",
      "__________________________________________________________________________________________________\n",
      "dense (Dense)                   (None, 38)           1254        dropout_3[0][0]                  \n",
      "__________________________________________________________________________________________________\n",
      "activation_1 (Activation)       (None, 38)           0           dense[0][0]                      \n",
      "==================================================================================================\n",
      "Total params: 38,730\n",
      "Trainable params: 38,730\n",
      "Non-trainable params: 0\n",
      "__________________________________________________________________________________________________\n"
     ]
    }
   ],
   "source": [
    "model.summary()"
   ]
  },
  {
   "cell_type": "code",
   "execution_count": 54,
   "id": "99dd46fd",
   "metadata": {},
   "outputs": [
    {
     "name": "stdout",
     "output_type": "stream",
     "text": [
      "Epoch 1/120\n",
      "313/313 [==============================] - 7s 15ms/step - loss: 0.9313 - accuracy: 0.4962 - val_loss: 0.7020 - val_accuracy: 0.5030\n",
      "Epoch 2/120\n",
      "313/313 [==============================] - 4s 13ms/step - loss: 0.7055 - accuracy: 0.4920 - val_loss: 0.6942 - val_accuracy: 0.5030\n",
      "Epoch 3/120\n",
      "313/313 [==============================] - 4s 14ms/step - loss: 0.6957 - accuracy: 0.5045 - val_loss: 0.6951 - val_accuracy: 0.4970\n",
      "Epoch 4/120\n",
      "313/313 [==============================] - 4s 14ms/step - loss: 0.6953 - accuracy: 0.4994 - val_loss: 0.6947 - val_accuracy: 0.4970\n",
      "Epoch 5/120\n",
      "313/313 [==============================] - 4s 13ms/step - loss: 0.6952 - accuracy: 0.4944 - val_loss: 0.6954 - val_accuracy: 0.5030\n",
      "Epoch 6/120\n",
      "313/313 [==============================] - 4s 13ms/step - loss: 0.6948 - accuracy: 0.4980 - val_loss: 0.6934 - val_accuracy: 0.5030\n",
      "Epoch 7/120\n",
      "313/313 [==============================] - 4s 13ms/step - loss: 0.6948 - accuracy: 0.4959 - val_loss: 0.6937 - val_accuracy: 0.4970\n",
      "Epoch 8/120\n",
      "313/313 [==============================] - 4s 14ms/step - loss: 0.6942 - accuracy: 0.5030 - val_loss: 0.6933 - val_accuracy: 0.4940\n",
      "Epoch 9/120\n",
      "313/313 [==============================] - 4s 13ms/step - loss: 0.6940 - accuracy: 0.5077 - val_loss: 0.7029 - val_accuracy: 0.4970\n",
      "Epoch 10/120\n",
      "313/313 [==============================] - 3s 9ms/step - loss: 0.6947 - accuracy: 0.4977 - val_loss: 0.6934 - val_accuracy: 0.5040\n",
      "Epoch 11/120\n",
      "313/313 [==============================] - 3s 10ms/step - loss: 0.6944 - accuracy: 0.5020 - val_loss: 0.6943 - val_accuracy: 0.5090\n",
      "Epoch 12/120\n",
      "313/313 [==============================] - 3s 9ms/step - loss: 0.6923 - accuracy: 0.5144 - val_loss: 0.6960 - val_accuracy: 0.4950\n",
      "Epoch 13/120\n",
      "313/313 [==============================] - 3s 9ms/step - loss: 0.6905 - accuracy: 0.5259 - val_loss: 0.6946 - val_accuracy: 0.5230\n",
      "Epoch 14/120\n",
      "313/313 [==============================] - 3s 9ms/step - loss: 0.6803 - accuracy: 0.5668 - val_loss: 0.6781 - val_accuracy: 0.5550\n",
      "Epoch 15/120\n",
      "313/313 [==============================] - 3s 9ms/step - loss: 0.6607 - accuracy: 0.6183 - val_loss: 0.6423 - val_accuracy: 0.6350\n",
      "Epoch 16/120\n",
      "313/313 [==============================] - 3s 9ms/step - loss: 0.6405 - accuracy: 0.6402 - val_loss: 0.6306 - val_accuracy: 0.6370\n",
      "Epoch 17/120\n",
      "313/313 [==============================] - 4s 13ms/step - loss: 0.6304 - accuracy: 0.6455 - val_loss: 0.6279 - val_accuracy: 0.6400\n",
      "Epoch 18/120\n",
      "313/313 [==============================] - 4s 12ms/step - loss: 0.6258 - accuracy: 0.6545 - val_loss: 0.6258 - val_accuracy: 0.6440\n",
      "Epoch 19/120\n",
      "313/313 [==============================] - 4s 12ms/step - loss: 0.6231 - accuracy: 0.6536 - val_loss: 0.6129 - val_accuracy: 0.6520\n",
      "Epoch 20/120\n",
      "313/313 [==============================] - 4s 13ms/step - loss: 0.6189 - accuracy: 0.6588 - val_loss: 0.6140 - val_accuracy: 0.6420\n",
      "Epoch 21/120\n",
      "313/313 [==============================] - 4s 12ms/step - loss: 0.6123 - accuracy: 0.6619 - val_loss: 0.6103 - val_accuracy: 0.6490\n",
      "Epoch 22/120\n",
      "313/313 [==============================] - 3s 11ms/step - loss: 0.6070 - accuracy: 0.6678 - val_loss: 0.6084 - val_accuracy: 0.6550\n",
      "Epoch 23/120\n",
      "313/313 [==============================] - 4s 11ms/step - loss: 0.5978 - accuracy: 0.6772 - val_loss: 0.5828 - val_accuracy: 0.6640\n",
      "Epoch 24/120\n",
      "313/313 [==============================] - 3s 11ms/step - loss: 0.5813 - accuracy: 0.6948 - val_loss: 0.5554 - val_accuracy: 0.6990\n",
      "Epoch 25/120\n",
      "313/313 [==============================] - 4s 13ms/step - loss: 0.5531 - accuracy: 0.7223 - val_loss: 0.5106 - val_accuracy: 0.7590\n",
      "Epoch 26/120\n",
      "313/313 [==============================] - 4s 12ms/step - loss: 0.5193 - accuracy: 0.7539 - val_loss: 0.4646 - val_accuracy: 0.7870\n",
      "Epoch 27/120\n",
      "313/313 [==============================] - 4s 12ms/step - loss: 0.4800 - accuracy: 0.7831 - val_loss: 0.4331 - val_accuracy: 0.8080\n",
      "Epoch 28/120\n",
      "313/313 [==============================] - 4s 11ms/step - loss: 0.4430 - accuracy: 0.7992 - val_loss: 0.4355 - val_accuracy: 0.8010\n",
      "Epoch 29/120\n",
      "313/313 [==============================] - 3s 10ms/step - loss: 0.4235 - accuracy: 0.8111 - val_loss: 0.3961 - val_accuracy: 0.8080\n",
      "Epoch 30/120\n",
      "313/313 [==============================] - 3s 10ms/step - loss: 0.4042 - accuracy: 0.8181 - val_loss: 0.3760 - val_accuracy: 0.8160\n",
      "Epoch 31/120\n",
      "313/313 [==============================] - 3s 9ms/step - loss: 0.3904 - accuracy: 0.8268 - val_loss: 0.4172 - val_accuracy: 0.8040\n",
      "Epoch 32/120\n",
      "313/313 [==============================] - 3s 10ms/step - loss: 0.3834 - accuracy: 0.8274 - val_loss: 0.3670 - val_accuracy: 0.8230\n",
      "Epoch 33/120\n",
      "313/313 [==============================] - 3s 9ms/step - loss: 0.3681 - accuracy: 0.8346 - val_loss: 0.3614 - val_accuracy: 0.8240\n",
      "Epoch 34/120\n",
      "313/313 [==============================] - 3s 10ms/step - loss: 0.3587 - accuracy: 0.8374 - val_loss: 0.3980 - val_accuracy: 0.8260\n",
      "Epoch 35/120\n",
      "313/313 [==============================] - 3s 9ms/step - loss: 0.3541 - accuracy: 0.8465 - val_loss: 0.3689 - val_accuracy: 0.8280\n",
      "Epoch 36/120\n",
      "313/313 [==============================] - 3s 9ms/step - loss: 0.3479 - accuracy: 0.8463 - val_loss: 0.3549 - val_accuracy: 0.8260\n",
      "Epoch 37/120\n",
      "313/313 [==============================] - 3s 9ms/step - loss: 0.3415 - accuracy: 0.8475 - val_loss: 0.3627 - val_accuracy: 0.8370\n",
      "Epoch 38/120\n",
      "313/313 [==============================] - 3s 10ms/step - loss: 0.3342 - accuracy: 0.8512 - val_loss: 0.3559 - val_accuracy: 0.8230\n",
      "Epoch 39/120\n",
      "313/313 [==============================] - 3s 10ms/step - loss: 0.3355 - accuracy: 0.8510 - val_loss: 0.3689 - val_accuracy: 0.8240\n",
      "Epoch 40/120\n",
      "313/313 [==============================] - 3s 9ms/step - loss: 0.3326 - accuracy: 0.8517 - val_loss: 0.3483 - val_accuracy: 0.8290\n",
      "Epoch 41/120\n",
      "313/313 [==============================] - 3s 10ms/step - loss: 0.3307 - accuracy: 0.8539 - val_loss: 0.3554 - val_accuracy: 0.8250\n",
      "Epoch 42/120\n",
      "313/313 [==============================] - 3s 9ms/step - loss: 0.3261 - accuracy: 0.8547 - val_loss: 0.3468 - val_accuracy: 0.8440\n",
      "Epoch 43/120\n",
      "313/313 [==============================] - 3s 10ms/step - loss: 0.3227 - accuracy: 0.8584 - val_loss: 0.3482 - val_accuracy: 0.8390\n",
      "Epoch 44/120\n",
      "313/313 [==============================] - 3s 9ms/step - loss: 0.3166 - accuracy: 0.8598 - val_loss: 0.3860 - val_accuracy: 0.8210\n",
      "Epoch 45/120\n",
      "313/313 [==============================] - 3s 10ms/step - loss: 0.3141 - accuracy: 0.8629 - val_loss: 0.3416 - val_accuracy: 0.8400\n",
      "Epoch 46/120\n",
      "313/313 [==============================] - 3s 9ms/step - loss: 0.3108 - accuracy: 0.8628 - val_loss: 0.3452 - val_accuracy: 0.8350\n",
      "Epoch 47/120\n",
      "313/313 [==============================] - 3s 10ms/step - loss: 0.3149 - accuracy: 0.8656 - val_loss: 0.3481 - val_accuracy: 0.8360\n",
      "Epoch 48/120\n",
      "313/313 [==============================] - 3s 10ms/step - loss: 0.3126 - accuracy: 0.8628 - val_loss: 0.3573 - val_accuracy: 0.8330\n",
      "Epoch 49/120\n",
      "313/313 [==============================] - 3s 10ms/step - loss: 0.3100 - accuracy: 0.8641 - val_loss: 0.3660 - val_accuracy: 0.8480\n",
      "Epoch 50/120\n",
      "313/313 [==============================] - 3s 9ms/step - loss: 0.3064 - accuracy: 0.8656 - val_loss: 0.3612 - val_accuracy: 0.8400\n",
      "Epoch 51/120\n",
      "313/313 [==============================] - 3s 10ms/step - loss: 0.3053 - accuracy: 0.8660 - val_loss: 0.3618 - val_accuracy: 0.8450\n",
      "Epoch 52/120\n",
      "313/313 [==============================] - 3s 10ms/step - loss: 0.3023 - accuracy: 0.8685 - val_loss: 0.3702 - val_accuracy: 0.8360\n",
      "Epoch 53/120\n",
      "313/313 [==============================] - 3s 9ms/step - loss: 0.3037 - accuracy: 0.8661 - val_loss: 0.3613 - val_accuracy: 0.8410\n",
      "Epoch 54/120\n",
      "313/313 [==============================] - 3s 10ms/step - loss: 0.2973 - accuracy: 0.8693 - val_loss: 0.3642 - val_accuracy: 0.8350\n",
      "Epoch 55/120\n",
      "313/313 [==============================] - 3s 9ms/step - loss: 0.3025 - accuracy: 0.8670 - val_loss: 0.3552 - val_accuracy: 0.8360\n",
      "Epoch 56/120\n",
      "313/313 [==============================] - 3s 10ms/step - loss: 0.2952 - accuracy: 0.8690 - val_loss: 0.3549 - val_accuracy: 0.8340\n",
      "Epoch 57/120\n",
      "313/313 [==============================] - 3s 9ms/step - loss: 0.2964 - accuracy: 0.8687 - val_loss: 0.3775 - val_accuracy: 0.8240\n"
     ]
    },
    {
     "name": "stdout",
     "output_type": "stream",
     "text": [
      "Epoch 58/120\n",
      "313/313 [==============================] - 3s 10ms/step - loss: 0.2930 - accuracy: 0.8714 - val_loss: 0.3773 - val_accuracy: 0.8280\n",
      "Epoch 59/120\n",
      "313/313 [==============================] - 3s 9ms/step - loss: 0.2951 - accuracy: 0.8731 - val_loss: 0.3918 - val_accuracy: 0.8360\n",
      "Epoch 60/120\n",
      "313/313 [==============================] - 3s 10ms/step - loss: 0.2971 - accuracy: 0.8721 - val_loss: 0.3692 - val_accuracy: 0.8310\n",
      "Epoch 61/120\n",
      "313/313 [==============================] - 3s 9ms/step - loss: 0.2904 - accuracy: 0.8736 - val_loss: 0.3702 - val_accuracy: 0.8320\n",
      "Epoch 62/120\n",
      "313/313 [==============================] - 3s 10ms/step - loss: 0.2912 - accuracy: 0.8738 - val_loss: 0.3686 - val_accuracy: 0.8350\n",
      "Epoch 63/120\n",
      "313/313 [==============================] - 3s 10ms/step - loss: 0.2895 - accuracy: 0.8742 - val_loss: 0.3910 - val_accuracy: 0.8370\n",
      "Epoch 64/120\n",
      "313/313 [==============================] - 3s 9ms/step - loss: 0.2856 - accuracy: 0.8758 - val_loss: 0.3717 - val_accuracy: 0.8360\n",
      "Epoch 65/120\n",
      "313/313 [==============================] - 3s 10ms/step - loss: 0.2837 - accuracy: 0.8752 - val_loss: 0.3746 - val_accuracy: 0.8340\n",
      "Epoch 66/120\n",
      "313/313 [==============================] - 3s 9ms/step - loss: 0.2823 - accuracy: 0.8761 - val_loss: 0.3819 - val_accuracy: 0.8260\n",
      "Epoch 67/120\n",
      "313/313 [==============================] - 3s 10ms/step - loss: 0.2810 - accuracy: 0.8760 - val_loss: 0.3679 - val_accuracy: 0.8290\n",
      "Epoch 68/120\n",
      "313/313 [==============================] - 3s 9ms/step - loss: 0.2820 - accuracy: 0.8784 - val_loss: 0.3668 - val_accuracy: 0.8330\n",
      "Epoch 69/120\n",
      "313/313 [==============================] - 3s 10ms/step - loss: 0.2858 - accuracy: 0.8763 - val_loss: 0.3748 - val_accuracy: 0.8370\n",
      "Epoch 70/120\n",
      "313/313 [==============================] - 3s 10ms/step - loss: 0.2805 - accuracy: 0.8773 - val_loss: 0.3928 - val_accuracy: 0.8340\n",
      "Epoch 71/120\n",
      "313/313 [==============================] - 3s 11ms/step - loss: 0.2772 - accuracy: 0.8779 - val_loss: 0.3786 - val_accuracy: 0.8330\n",
      "Epoch 72/120\n",
      "313/313 [==============================] - 3s 11ms/step - loss: 0.2757 - accuracy: 0.8788 - val_loss: 0.4099 - val_accuracy: 0.8290\n",
      "Epoch 73/120\n",
      "313/313 [==============================] - 3s 9ms/step - loss: 0.2804 - accuracy: 0.8791 - val_loss: 0.3774 - val_accuracy: 0.8280\n",
      "Epoch 74/120\n",
      "313/313 [==============================] - 3s 10ms/step - loss: 0.2776 - accuracy: 0.8766 - val_loss: 0.3813 - val_accuracy: 0.8340\n",
      "Epoch 75/120\n",
      "313/313 [==============================] - 3s 9ms/step - loss: 0.2843 - accuracy: 0.8815 - val_loss: 0.3874 - val_accuracy: 0.8440\n",
      "Epoch 76/120\n",
      "313/313 [==============================] - 3s 10ms/step - loss: 0.2729 - accuracy: 0.8794 - val_loss: 0.4061 - val_accuracy: 0.8280\n",
      "Epoch 77/120\n",
      "313/313 [==============================] - 3s 9ms/step - loss: 0.2699 - accuracy: 0.8841 - val_loss: 0.3815 - val_accuracy: 0.8390\n",
      "Epoch 78/120\n",
      "313/313 [==============================] - 3s 10ms/step - loss: 0.2757 - accuracy: 0.8797 - val_loss: 0.3814 - val_accuracy: 0.8290\n",
      "Epoch 79/120\n",
      "313/313 [==============================] - 3s 9ms/step - loss: 0.2714 - accuracy: 0.8848 - val_loss: 0.3916 - val_accuracy: 0.8340\n",
      "Epoch 80/120\n",
      "313/313 [==============================] - 3s 11ms/step - loss: 0.2714 - accuracy: 0.8845 - val_loss: 0.3999 - val_accuracy: 0.8330\n",
      "Epoch 81/120\n",
      "313/313 [==============================] - 4s 12ms/step - loss: 0.2677 - accuracy: 0.8859 - val_loss: 0.3932 - val_accuracy: 0.8380\n",
      "Epoch 82/120\n",
      "313/313 [==============================] - 4s 12ms/step - loss: 0.2680 - accuracy: 0.8845 - val_loss: 0.4416 - val_accuracy: 0.8250\n",
      "Epoch 83/120\n",
      "313/313 [==============================] - 3s 10ms/step - loss: 0.2734 - accuracy: 0.8806 - val_loss: 0.3869 - val_accuracy: 0.8290\n",
      "Epoch 84/120\n",
      "313/313 [==============================] - 3s 9ms/step - loss: 0.2635 - accuracy: 0.8876 - val_loss: 0.4041 - val_accuracy: 0.8370\n",
      "Epoch 85/120\n",
      "313/313 [==============================] - 3s 10ms/step - loss: 0.2702 - accuracy: 0.8827 - val_loss: 0.4056 - val_accuracy: 0.8270\n",
      "Epoch 86/120\n",
      "313/313 [==============================] - 3s 9ms/step - loss: 0.2690 - accuracy: 0.8849 - val_loss: 0.4051 - val_accuracy: 0.8330\n",
      "Epoch 87/120\n",
      "313/313 [==============================] - 3s 9ms/step - loss: 0.2662 - accuracy: 0.8835 - val_loss: 0.4121 - val_accuracy: 0.8290\n",
      "Epoch 88/120\n",
      "313/313 [==============================] - 3s 10ms/step - loss: 0.2647 - accuracy: 0.8842 - val_loss: 0.4088 - val_accuracy: 0.8300\n",
      "Epoch 89/120\n",
      "313/313 [==============================] - 3s 10ms/step - loss: 0.2640 - accuracy: 0.8872 - val_loss: 0.4076 - val_accuracy: 0.8330\n",
      "Epoch 90/120\n",
      "313/313 [==============================] - 3s 10ms/step - loss: 0.2621 - accuracy: 0.8890 - val_loss: 0.4052 - val_accuracy: 0.8330\n",
      "Epoch 91/120\n",
      "313/313 [==============================] - 3s 10ms/step - loss: 0.2606 - accuracy: 0.8880 - val_loss: 0.3900 - val_accuracy: 0.8310\n",
      "Epoch 92/120\n",
      "313/313 [==============================] - 3s 10ms/step - loss: 0.2601 - accuracy: 0.8877 - val_loss: 0.4089 - val_accuracy: 0.8330\n",
      "Epoch 93/120\n",
      "313/313 [==============================] - 3s 9ms/step - loss: 0.2609 - accuracy: 0.8851 - val_loss: 0.4369 - val_accuracy: 0.8260\n",
      "Epoch 94/120\n",
      "313/313 [==============================] - 3s 9ms/step - loss: 0.2588 - accuracy: 0.8873 - val_loss: 0.4256 - val_accuracy: 0.8350\n",
      "Epoch 95/120\n",
      "313/313 [==============================] - 3s 9ms/step - loss: 0.2567 - accuracy: 0.8892 - val_loss: 0.4182 - val_accuracy: 0.8310\n",
      "Epoch 96/120\n",
      "313/313 [==============================] - 3s 9ms/step - loss: 0.2567 - accuracy: 0.8919 - val_loss: 0.4425 - val_accuracy: 0.8310\n",
      "Epoch 97/120\n",
      "313/313 [==============================] - 3s 10ms/step - loss: 0.2556 - accuracy: 0.8888 - val_loss: 0.3978 - val_accuracy: 0.8260\n",
      "Epoch 98/120\n",
      "313/313 [==============================] - 3s 10ms/step - loss: 0.2487 - accuracy: 0.8917 - val_loss: 0.4305 - val_accuracy: 0.8340\n",
      "Epoch 99/120\n",
      "313/313 [==============================] - 3s 10ms/step - loss: 0.2576 - accuracy: 0.8876 - val_loss: 0.4208 - val_accuracy: 0.8270\n",
      "Epoch 100/120\n",
      "313/313 [==============================] - 3s 10ms/step - loss: 0.2494 - accuracy: 0.8909 - val_loss: 0.4229 - val_accuracy: 0.8340\n",
      "Epoch 101/120\n",
      "313/313 [==============================] - 3s 10ms/step - loss: 0.2502 - accuracy: 0.8916 - val_loss: 0.4140 - val_accuracy: 0.8350\n",
      "Epoch 102/120\n",
      "313/313 [==============================] - 3s 11ms/step - loss: 0.2473 - accuracy: 0.8944 - val_loss: 0.4134 - val_accuracy: 0.8340\n",
      "Epoch 103/120\n",
      "313/313 [==============================] - 4s 12ms/step - loss: 0.2533 - accuracy: 0.8943 - val_loss: 0.4341 - val_accuracy: 0.8260\n",
      "Epoch 104/120\n",
      "313/313 [==============================] - 4s 14ms/step - loss: 0.2484 - accuracy: 0.8938 - val_loss: 0.4317 - val_accuracy: 0.8230\n",
      "Epoch 105/120\n",
      "313/313 [==============================] - 4s 12ms/step - loss: 0.2447 - accuracy: 0.8956 - val_loss: 0.4676 - val_accuracy: 0.8310\n",
      "Epoch 106/120\n",
      "313/313 [==============================] - 4s 12ms/step - loss: 0.2473 - accuracy: 0.8941 - val_loss: 0.4247 - val_accuracy: 0.8320\n",
      "Epoch 107/120\n",
      "313/313 [==============================] - 4s 12ms/step - loss: 0.2464 - accuracy: 0.8951 - val_loss: 0.4474 - val_accuracy: 0.8250\n",
      "Epoch 108/120\n",
      "313/313 [==============================] - 3s 11ms/step - loss: 0.2407 - accuracy: 0.8961 - val_loss: 0.4461 - val_accuracy: 0.8300\n",
      "Epoch 109/120\n",
      "313/313 [==============================] - 3s 10ms/step - loss: 0.2372 - accuracy: 0.8984 - val_loss: 0.4465 - val_accuracy: 0.8330\n",
      "Epoch 110/120\n",
      "313/313 [==============================] - 3s 10ms/step - loss: 0.2393 - accuracy: 0.8987 - val_loss: 0.4838 - val_accuracy: 0.8290\n",
      "Epoch 111/120\n",
      "313/313 [==============================] - 3s 9ms/step - loss: 0.2389 - accuracy: 0.8992 - val_loss: 0.5011 - val_accuracy: 0.8230\n",
      "Epoch 112/120\n",
      "313/313 [==============================] - 3s 11ms/step - loss: 0.2432 - accuracy: 0.8973 - val_loss: 0.4532 - val_accuracy: 0.8300\n",
      "Epoch 113/120\n",
      "313/313 [==============================] - 3s 10ms/step - loss: 0.2368 - accuracy: 0.8960 - val_loss: 0.4422 - val_accuracy: 0.8250\n",
      "Epoch 114/120\n",
      "313/313 [==============================] - 3s 10ms/step - loss: 0.2328 - accuracy: 0.8987 - val_loss: 0.4547 - val_accuracy: 0.8330\n",
      "Epoch 115/120\n",
      "313/313 [==============================] - 3s 9ms/step - loss: 0.2362 - accuracy: 0.9005 - val_loss: 0.4662 - val_accuracy: 0.8240\n",
      "Epoch 116/120\n",
      "313/313 [==============================] - 3s 10ms/step - loss: 0.2333 - accuracy: 0.8996 - val_loss: 0.4981 - val_accuracy: 0.8290\n",
      "Epoch 117/120\n",
      "313/313 [==============================] - 3s 10ms/step - loss: 0.2371 - accuracy: 0.8992 - val_loss: 0.4400 - val_accuracy: 0.8290\n",
      "Epoch 118/120\n",
      "313/313 [==============================] - 3s 9ms/step - loss: 0.2353 - accuracy: 0.8966 - val_loss: 0.4704 - val_accuracy: 0.8300\n",
      "Epoch 119/120\n",
      "313/313 [==============================] - 3s 10ms/step - loss: 0.2331 - accuracy: 0.8998 - val_loss: 0.4855 - val_accuracy: 0.8240\n",
      "Epoch 120/120\n",
      "313/313 [==============================] - 3s 10ms/step - loss: 0.2311 - accuracy: 0.9015 - val_loss: 0.4895 - val_accuracy: 0.8290\n"
     ]
    }
   ],
   "source": [
    "#train\n",
    "history = model.fit([inputs_train, queries_train], answers_train,batch_size=32,epochs=120,validation_data=([inputs_test, queries_test], answers_test))"
   ]
  },
  {
   "cell_type": "code",
   "execution_count": 55,
   "id": "22f5df45",
   "metadata": {},
   "outputs": [
    {
     "name": "stderr",
     "output_type": "stream",
     "text": [
      "C:\\Users\\Acer\\anaconda3\\lib\\site-packages\\keras\\utils\\generic_utils.py:494: CustomMaskWarning: Custom mask layers require a config and must override get_config. When loading, the custom mask layer must be passed to the custom_objects argument.\n",
      "  warnings.warn('Custom mask layers require a config and must override '\n"
     ]
    }
   ],
   "source": [
    "filename = 'chatbot3_120_epochs.h5'\n",
    "model.save(filename)"
   ]
  },
  {
   "cell_type": "markdown",
   "id": "d03ff368",
   "metadata": {},
   "source": [
    "## Evaluating the Model\n",
    "\n",
    "### Plotting Out Training History"
   ]
  },
  {
   "cell_type": "code",
   "execution_count": 56,
   "id": "3be01576",
   "metadata": {},
   "outputs": [
    {
     "name": "stdout",
     "output_type": "stream",
     "text": [
      "dict_keys(['loss', 'accuracy', 'val_loss', 'val_accuracy'])\n"
     ]
    },
    {
     "data": {
      "image/png": "[encoded data removed]",
      "text/plain": [
       "<Figure size 432x288 with 1 Axes>"
      ]
     },
     "metadata": {
      "needs_background": "light"
     },
     "output_type": "display_data"
    }
   ],
   "source": [
    "import matplotlib.pyplot as plt\n",
    "%matplotlib inline\n",
    "print(history.history.keys())\n",
    "# summarize history for accuracy\n",
    "plt.plot(history.history['accuracy'])\n",
    "plt.plot(history.history['val_accuracy'])\n",
    "plt.title('model accuracy')\n",
    "plt.ylabel('accuracy')\n",
    "plt.xlabel('epoch')\n",
    "plt.legend(['train', 'test'], loc='upper left')\n",
    "plt.show()"
   ]
  },
  {
   "cell_type": "code",
   "execution_count": 57,
   "id": "f0c3b4d7",
   "metadata": {},
   "outputs": [],
   "source": [
    "### Evaluating on Given Test Set"
   ]
  },
  {
   "cell_type": "code",
   "execution_count": 58,
   "id": "ffe9ae2c",
   "metadata": {},
   "outputs": [],
   "source": [
    "model.load_weights(filename)\n",
    "pred_results = model.predict(([inputs_test, queries_test]))"
   ]
  },
  {
   "cell_type": "code",
   "execution_count": 59,
   "id": "2a348b1e",
   "metadata": {},
   "outputs": [
    {
     "data": {
      "text/plain": [
       "['Mary',\n",
       " 'got',\n",
       " 'the',\n",
       " 'milk',\n",
       " 'there',\n",
       " '.',\n",
       " 'John',\n",
       " 'moved',\n",
       " 'to',\n",
       " 'the',\n",
       " 'bedroom',\n",
       " '.']"
      ]
     },
     "execution_count": 59,
     "metadata": {},
     "output_type": "execute_result"
    }
   ],
   "source": [
    "test_data[0][0]"
   ]
  },
  {
   "cell_type": "code",
   "execution_count": 60,
   "id": "df030c2f",
   "metadata": {},
   "outputs": [
    {
     "name": "stdout",
     "output_type": "stream",
     "text": [
      "Mary got the milk there . John moved to the bedroom .\n"
     ]
    }
   ],
   "source": [
    "story =' '.join(word for word in test_data[0][0])\n",
    "print(story)"
   ]
  },
  {
   "cell_type": "code",
   "execution_count": 61,
   "id": "a070ca62",
   "metadata": {},
   "outputs": [
    {
     "name": "stdout",
     "output_type": "stream",
     "text": [
      "Is John in the kitchen ?\n"
     ]
    }
   ],
   "source": [
    "query = ' '.join(word for word in test_data[0][1])\n",
    "print(query)"
   ]
  },
  {
   "cell_type": "code",
   "execution_count": 62,
   "id": "1afdffb6",
   "metadata": {},
   "outputs": [
    {
     "name": "stdout",
     "output_type": "stream",
     "text": [
      "True Test Answer from Data is: no\n"
     ]
    }
   ],
   "source": [
    "print(\"True Test Answer from Data is:\",test_data[0][2])"
   ]
  },
  {
   "cell_type": "code",
   "execution_count": 63,
   "id": "2c6ff5d8",
   "metadata": {},
   "outputs": [
    {
     "name": "stdout",
     "output_type": "stream",
     "text": [
      "Predicted answer is:  no\n",
      "Probability of certainty was:  0.9999999\n"
     ]
    }
   ],
   "source": [
    "#Generate prediction from model\n",
    "val_max = np.argmax(pred_results[0])\n",
    "\n",
    "for key, val in tokenizer.word_index.items():\n",
    "    if val == val_max:\n",
    "        k = key\n",
    "\n",
    "print(\"Predicted answer is: \", k)\n",
    "print(\"Probability of certainty was: \", pred_results[0][val_max])"
   ]
  },
  {
   "cell_type": "markdown",
   "id": "ea71c38a",
   "metadata": {},
   "source": [
    "## Writing Your Own Stories and Questions\n",
    "\n",
    "Remember you can only use words from the existing vocab"
   ]
  },
  {
   "cell_type": "code",
   "execution_count": 64,
   "id": "1b461894",
   "metadata": {},
   "outputs": [
    {
     "data": {
      "text/plain": [
       "{'.',\n",
       " '?',\n",
       " 'Daniel',\n",
       " 'Is',\n",
       " 'John',\n",
       " 'Mary',\n",
       " 'Sandra',\n",
       " 'apple',\n",
       " 'back',\n",
       " 'bathroom',\n",
       " 'bedroom',\n",
       " 'discarded',\n",
       " 'down',\n",
       " 'dropped',\n",
       " 'football',\n",
       " 'garden',\n",
       " 'got',\n",
       " 'grabbed',\n",
       " 'hallway',\n",
       " 'in',\n",
       " 'journeyed',\n",
       " 'kitchen',\n",
       " 'left',\n",
       " 'milk',\n",
       " 'moved',\n",
       " 'no',\n",
       " 'office',\n",
       " 'picked',\n",
       " 'put',\n",
       " 'the',\n",
       " 'there',\n",
       " 'to',\n",
       " 'took',\n",
       " 'travelled',\n",
       " 'up',\n",
       " 'went',\n",
       " 'yes'}"
      ]
     },
     "execution_count": 64,
     "metadata": {},
     "output_type": "execute_result"
    }
   ],
   "source": [
    "vocab"
   ]
  },
  {
   "cell_type": "code",
   "execution_count": 65,
   "id": "16e77685",
   "metadata": {},
   "outputs": [
    {
     "data": {
      "text/plain": [
       "['John',\n",
       " 'left',\n",
       " 'the',\n",
       " 'kitchen',\n",
       " '.',\n",
       " 'Sandra',\n",
       " 'dropped',\n",
       " 'the',\n",
       " 'football',\n",
       " 'in',\n",
       " 'the',\n",
       " 'garden',\n",
       " '.']"
      ]
     },
     "execution_count": 65,
     "metadata": {},
     "output_type": "execute_result"
    }
   ],
   "source": [
    "# Note the whitespace of the periods\n",
    "my_story = \"John left the kitchen . Sandra dropped the football in the garden .\"\n",
    "my_story.split()"
   ]
  },
  {
   "cell_type": "code",
   "execution_count": 66,
   "id": "0569dc02",
   "metadata": {},
   "outputs": [],
   "source": [
    "my_question = \"Is the football in the garden ?\""
   ]
  },
  {
   "cell_type": "code",
   "execution_count": 67,
   "id": "b30ff2ad",
   "metadata": {},
   "outputs": [
    {
     "data": {
      "text/plain": [
       "['Is', 'the', 'football', 'in', 'the', 'garden', '?']"
      ]
     },
     "execution_count": 67,
     "metadata": {},
     "output_type": "execute_result"
    }
   ],
   "source": [
    "my_question.split()"
   ]
  },
  {
   "cell_type": "code",
   "execution_count": 68,
   "id": "4d502c3f",
   "metadata": {},
   "outputs": [],
   "source": [
    "mydata = [(my_story.split(),my_question.split(),'yes')]"
   ]
  },
  {
   "cell_type": "code",
   "execution_count": 69,
   "id": "5634d18b",
   "metadata": {},
   "outputs": [],
   "source": [
    "my_story,my_ques,my_ans = vectorize_stories(mydata)"
   ]
  },
  {
   "cell_type": "code",
   "execution_count": 70,
   "id": "713b3831",
   "metadata": {},
   "outputs": [],
   "source": [
    "pred_results = model.predict(([ my_story, my_ques]))"
   ]
  },
  {
   "cell_type": "code",
   "execution_count": 71,
   "id": "1e738b53",
   "metadata": {},
   "outputs": [
    {
     "name": "stdout",
     "output_type": "stream",
     "text": [
      "Predicted answer is:  yes\n",
      "Probability of certainty was:  0.9994112\n"
     ]
    }
   ],
   "source": [
    "#Generate prediction from model\n",
    "val_max = np.argmax(pred_results[0])\n",
    "\n",
    "for key, val in tokenizer.word_index.items():\n",
    "    if val == val_max:\n",
    "        k = key\n",
    "\n",
    "print(\"Predicted answer is: \", k)\n",
    "print(\"Probability of certainty was: \", pred_results[0][val_max])"
   ]
  },
  {
   "cell_type": "code",
   "execution_count": 72,
   "id": "8bbbfd5b",
   "metadata": {},
   "outputs": [],
   "source": [
    "import gradio as gr"
   ]
  },
  {
   "cell_type": "code",
   "execution_count": 73,
   "id": "0811e7c4",
   "metadata": {},
   "outputs": [],
   "source": [
    "def chatbot(my_story, my_question, my_ans):\n",
    "    my_story.split()\n",
    "    my_question.split()\n",
    "    mydata = [(my_story.split(),my_question.split(),my_ans)]\n",
    "    my_story,my_ques,my_ans = vectorize_stories(mydata)\n",
    "    pred_results = model.predict(([ my_story, my_ques]))\n",
    "    val_max = np.argmax(pred_results[0])\n",
    "\n",
    "    for key, val in tokenizer.word_index.items():\n",
    "        if val == val_max:\n",
    "            k = key\n",
    "\n",
    "    return k, pred_results[0][val_max]"
   ]
  },
  {
   "cell_type": "code",
   "execution_count": 74,
   "id": "a299fe7f",
   "metadata": {},
   "outputs": [
    {
     "data": {
      "text/plain": [
       "('yes', 0.9994112)"
      ]
     },
     "execution_count": 74,
     "metadata": {},
     "output_type": "execute_result"
    }
   ],
   "source": [
    "chatbot(\"John left the kitchen . Sandra dropped the football in the garden .\", \"Is the football in the garden ?\", \"yes\")"
   ]
  },
  {
   "cell_type": "code",
   "execution_count": 75,
   "id": "53e15e99",
   "metadata": {},
   "outputs": [
    {
     "name": "stdout",
     "output_type": "stream",
     "text": [
      "Running on local URL:  http://127.0.0.1:7860/\n",
      "\n",
      "To create a public link, set `share=True` in `launch()`.\n"
     ]
    },
    {
     "data": {
      "text/html": [
       "\n",
       "        <iframe\n",
       "            width=\"900\"\n",
       "            height=\"500\"\n",
       "            src=\"http://127.0.0.1:7860/\"\n",
       "            frameborder=\"0\"\n",
       "            allowfullscreen\n",
       "        ></iframe>\n",
       "        "
      ],
      "text/plain": [
       "<IPython.lib.display.IFrame at 0x211d04bfa60>"
      ]
     },
     "metadata": {},
     "output_type": "display_data"
    },
    {
     "data": {
      "text/plain": [
       "(<fastapi.applications.FastAPI at 0x211cff18eb0>,\n",
       " 'http://127.0.0.1:7860/',\n",
       " None)"
      ]
     },
     "execution_count": 75,
     "metadata": {},
     "output_type": "execute_result"
    },
    {
     "name": "stderr",
     "output_type": "stream",
     "text": [
      "Traceback (most recent call last):\n",
      "  File \"C:\\Users\\Acer\\anaconda3\\lib\\site-packages\\gradio\\routes.py\", line 265, in predict\n",
      "    output = await run_in_threadpool(app.launchable.process_api, body, username)\n",
      "  File \"C:\\Users\\Acer\\anaconda3\\lib\\site-packages\\starlette\\concurrency.py\", line 39, in run_in_threadpool\n",
      "    return await anyio.to_thread.run_sync(func, *args)\n",
      "  File \"C:\\Users\\Acer\\anaconda3\\lib\\site-packages\\anyio\\to_thread.py\", line 28, in run_sync\n",
      "    return await get_asynclib().run_sync_in_worker_thread(func, *args, cancellable=cancellable,\n",
      "  File \"C:\\Users\\Acer\\anaconda3\\lib\\site-packages\\anyio\\_backends\\_asyncio.py\", line 818, in run_sync_in_worker_thread\n",
      "    return await future\n",
      "  File \"C:\\Users\\Acer\\anaconda3\\lib\\site-packages\\anyio\\_backends\\_asyncio.py\", line 754, in run\n",
      "    result = context.run(func, *args)\n",
      "  File \"C:\\Users\\Acer\\anaconda3\\lib\\site-packages\\gradio\\interface.py\", line 574, in process_api\n",
      "    prediction, durations = self.process(raw_input)\n",
      "  File \"C:\\Users\\Acer\\anaconda3\\lib\\site-packages\\gradio\\interface.py\", line 611, in process\n",
      "    predictions, durations = self.run_prediction(\n",
      "  File \"C:\\Users\\Acer\\anaconda3\\lib\\site-packages\\gradio\\interface.py\", line 532, in run_prediction\n",
      "    prediction = predict_fn(*processed_input)\n",
      "  File \"<ipython-input-73-2f646d71f411>\", line 5, in chatbot\n",
      "    my_story,my_ques,my_ans = vectorize_stories(mydata)\n",
      "  File \"<ipython-input-31-5d01491913b1>\", line 32, in vectorize_stories\n",
      "    x = [word_index[word.lower()] for word in story]\n",
      "  File \"<ipython-input-31-5d01491913b1>\", line 32, in <listcomp>\n",
      "    x = [word_index[word.lower()] for word in story]\n",
      "KeyError: 'kitchen.'\n"
     ]
    }
   ],
   "source": [
    "face = gr.Interface(fn=chatbot, inputs=[gr.inputs.Textbox(lines = 100, label = \"Your Story\"),\n",
    "                                     gr.inputs.Textbox(lines = 10, label = \"Your Question\"),\n",
    "                                     gr.inputs.Textbox(lines = 1, label = \"Your Answer\")],\n",
    "                    outputs=[gr.outputs.Textbox(label = \"Predicted Answer\"),\n",
    "                            gr.outputs.Textbox(label = \"Probability of certainty\")])\n",
    "face.launch()"
   ]
  },
  {
   "cell_type": "code",
   "execution_count": null,
   "id": "2869efc8",
   "metadata": {},
   "outputs": [],
   "source": []
  }
 ],
 "metadata": {
  "kernelspec": {
   "display_name": "Python 3",
   "language": "python",
   "name": "python3"
  },
  "language_info": {
   "codemirror_mode": {
    "name": "ipython",
    "version": 3
   },
   "file_extension": ".py",
   "mimetype": "text/x-python",
   "name": "python",
   "nbconvert_exporter": "python",
   "pygments_lexer": "ipython3",
   "version": "3.9.2"
  }
 },
 "nbformat": 4,
 "nbformat_minor": 5
}
